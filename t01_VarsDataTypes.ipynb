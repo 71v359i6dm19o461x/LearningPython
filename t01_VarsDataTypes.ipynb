{
 "cells": [
  {
   "cell_type": "markdown",
   "id": "94bbeeaa",
   "metadata": {},
   "source": [
    "# Variables"
   ]
  },
  {
   "cell_type": "code",
   "execution_count": null,
   "id": "88c7f1a0",
   "metadata": {},
   "outputs": [
    {
     "name": "stdout",
     "output_type": "stream",
     "text": [
      "John scored 10 points.\n"
     ]
    }
   ],
   "source": [
    "x = 10 \n",
    "name = 'John'\n",
    "print(name, 'scored', x, 'points.')"
   ]
  },
  {
   "cell_type": "code",
   "execution_count": null,
   "id": "2fd2ed2f",
   "metadata": {},
   "outputs": [
    {
     "name": "stdout",
     "output_type": "stream",
     "text": [
      "(-8+6j)\n"
     ]
    }
   ],
   "source": [
    "# Python supports complex numbers with EE notation (j instead of i).\n",
    "cval = 1+3j\n",
    "print(cval**2)"
   ]
  },
  {
   "cell_type": "code",
   "execution_count": null,
   "id": "7f46aa8b",
   "metadata": {},
   "outputs": [
    {
     "name": "stdout",
     "output_type": "stream",
     "text": [
      "<class 'int'>\n"
     ]
    }
   ],
   "source": [
    "# Type() is a built-in function to find out what type a value has.\n",
    "type(x) \n",
    "print(type(x))"
   ]
  },
  {
   "cell_type": "code",
   "execution_count": null,
   "id": "b9b86d76",
   "metadata": {},
   "outputs": [
    {
     "name": "stdout",
     "output_type": "stream",
     "text": [
      "LearningPython\n"
     ]
    }
   ],
   "source": [
    "# You can add strings together in python. <- absolutne madness.\n",
    "lp = 'Learning'+'Python' \n",
    "print(lp)"
   ]
  },
  {
   "cell_type": "code",
   "execution_count": null,
   "id": "bf60af46",
   "metadata": {},
   "outputs": [
    {
     "name": "stdout",
     "output_type": "stream",
     "text": [
      "LearningPythonLearningPythonLearningPythonLearningPythonLearningPython\n"
     ]
    }
   ],
   "source": [
    "# You can multiply strings in python.\n",
    "print(lp*5) "
   ]
  },
  {
   "cell_type": "code",
   "execution_count": 42,
   "id": "3c55b713",
   "metadata": {},
   "outputs": [
    {
     "name": "stdout",
     "output_type": "stream",
     "text": [
      "3\n",
      "12\n",
      "string to float: 1.2\n",
      "float to int: 1\n"
     ]
    }
   ],
   "source": [
    "# You can convert numbers to strings or vice versa when operating on them.\n",
    "print(1+int('2'))\n",
    "print(str(1)+'2')\n",
    "print(\"string to float:\", float('1.2'))\n",
    "print(\"float to int:\", int(1.2))"
   ]
  },
  {
   "cell_type": "code",
   "execution_count": null,
   "id": "75044b5d",
   "metadata": {},
   "outputs": [
    {
     "name": "stdout",
     "output_type": "stream",
     "text": [
      "5//3 = 1\n",
      "5/3 = 1.6666666666666667\n",
      "5%3 = 2\n"
     ]
    }
   ],
   "source": [
    "print('5//3 =', 5//3) # integer precision\n",
    "print('5/3 =', 5/3) # floating point precision\n",
    "print('5%3 =', 5%3) # modulo"
   ]
  },
  {
   "cell_type": "code",
   "execution_count": 52,
   "id": "30bdb6f2",
   "metadata": {},
   "outputs": [
    {
     "data": {
      "text/plain": [
       "'qwerty'"
      ]
     },
     "execution_count": 52,
     "metadata": {},
     "output_type": "execute_result"
    }
   ],
   "source": [
    "min(1,2,3,4)\n",
    "max(\"abc\",\"abcd\",\"qwerty\")"
   ]
  },
  {
   "cell_type": "code",
   "execution_count": null,
   "id": "1526b730",
   "metadata": {},
   "outputs": [
    {
     "name": "stdout",
     "output_type": "stream",
     "text": [
      "example\n",
      "result of print is None\n"
     ]
    }
   ],
   "source": [
    "result = print('example')\n",
    "print('result of print is', result) # If the function doesn't have anything to return, **usually** it returns special value 'None'."
   ]
  },
  {
   "cell_type": "code",
   "execution_count": null,
   "id": "8b094591",
   "metadata": {},
   "outputs": [
    {
     "name": "stdout",
     "output_type": "stream",
     "text": [
      "Help on built-in function print in module builtins:\n",
      "\n",
      "print(*args, sep=' ', end='\\n', file=None, flush=False)\n",
      "    Prints the values to a stream, or to sys.stdout by default.\n",
      "\n",
      "    sep\n",
      "      string inserted between values, default a space.\n",
      "    end\n",
      "      string appended after the last value, default a newline.\n",
      "    file\n",
      "      a file-like object (stream); defaults to the current sys.stdout.\n",
      "    flush\n",
      "      whether to forcibly flush the stream.\n",
      "\n"
     ]
    }
   ],
   "source": [
    "help(print) # help() is a quick access to documentation."
   ]
  },
  {
   "cell_type": "markdown",
   "id": "3272c117",
   "metadata": {},
   "source": [
    "# List\n",
    "You can put anything inside them. **DOESN'T** work like mathematical vector."
   ]
  },
  {
   "cell_type": "code",
   "execution_count": null,
   "id": "cd5463e2",
   "metadata": {},
   "outputs": [
    {
     "name": "stdout",
     "output_type": "stream",
     "text": [
      "[1, 2, 3, 'kitty', [6, 9]]\n",
      "5\n"
     ]
    }
   ],
   "source": [
    "xlist = [1, 2, 3, 'kitty', [6,9]]\n",
    "print(xlist)\n",
    "print(len(xlist)) ## len, outputs a length of the list."
   ]
  },
  {
   "cell_type": "code",
   "execution_count": null,
   "id": "a0e52d34",
   "metadata": {},
   "outputs": [
    {
     "data": {
      "text/plain": [
       "4"
      ]
     },
     "execution_count": 63,
     "metadata": {},
     "output_type": "execute_result"
    }
   ],
   "source": [
    "xlist[0]+xlist[2] # in python indexing starting with 0.\n"
   ]
  },
  {
   "cell_type": "code",
   "execution_count": 66,
   "id": "b08a5d9e",
   "metadata": {},
   "outputs": [
    {
     "name": "stdout",
     "output_type": "stream",
     "text": [
      "[1, 2, 3, 'kitty', [6, 9], 12, 'lmfao', 'lmfao']\n"
     ]
    }
   ],
   "source": [
    "xlist.append(\"lmfao\") # append() is a METHOD of lists. function tied to a particular object.\n",
    "print(xlist)"
   ]
  },
  {
   "cell_type": "code",
   "execution_count": 78,
   "id": "54dc27c8",
   "metadata": {},
   "outputs": [
    {
     "name": "stdout",
     "output_type": "stream",
     "text": [
      "None\n",
      "[1, 2, 3, 4, 9, 8, 7, 6]\n"
     ]
    }
   ],
   "source": [
    "list1 = [1,2,3,4]\n",
    "list2 = [9,8,7,6]\n",
    "print(list1.extend(list2)) # Print returns None because: '.extend()' is an operation where we work on the original object, it doesnt have an output itself. We have to do:\n",
    "print(list1) # and there we have a result we wanted."
   ]
  },
  {
   "cell_type": "code",
   "execution_count": null,
   "id": "a75d4624",
   "metadata": {},
   "outputs": [
    {
     "name": "stdout",
     "output_type": "stream",
     "text": [
      "[2, 3, 4, 9, 8, 7, 6]\n"
     ]
    }
   ],
   "source": [
    "del list1[0] # Neither a function or method. It is a \"statement\" \n",
    "print(list1)"
   ]
  },
  {
   "cell_type": "code",
   "execution_count": null,
   "id": "20ed6891",
   "metadata": {},
   "outputs": [
    {
     "name": "stdout",
     "output_type": "stream",
     "text": [
      "[2, 3, 4, 9, 8, 7, 6]\n",
      "[3, 4, 9, 8]\n"
     ]
    }
   ],
   "source": [
    "print(list1)\n",
    "print(list1[1:5])"
   ]
  },
  {
   "cell_type": "code",
   "execution_count": 92,
   "id": "6a3898d8",
   "metadata": {},
   "outputs": [
    {
     "name": "stdout",
     "output_type": "stream",
     "text": [
      "furn\n",
      "eniroulf\n"
     ]
    }
   ],
   "source": [
    "element = 'fluorine'\n",
    "print(element[::2]) # each second letter\n",
    "print(element[::-1]) # reversed"
   ]
  },
  {
   "cell_type": "code",
   "execution_count": 93,
   "id": "73a72880",
   "metadata": {},
   "outputs": [
    {
     "name": "stdout",
     "output_type": "stream",
     "text": [
      "letters is ['g', 'o', 'l', 'd'] and result is ['d', 'g', 'l', 'o']\n"
     ]
    }
   ],
   "source": [
    "# Program A\n",
    "letters = list('gold')\n",
    "result = sorted(letters)\n",
    "print('letters is', letters, 'and result is', result)"
   ]
  },
  {
   "cell_type": "code",
   "execution_count": 94,
   "id": "7c78ef43",
   "metadata": {},
   "outputs": [
    {
     "name": "stdout",
     "output_type": "stream",
     "text": [
      "letters is ['d', 'g', 'l', 'o'] and result is None\n"
     ]
    }
   ],
   "source": [
    "# Program B\n",
    "letters = list('gold')\n",
    "result = letters.sort()\n",
    "print('letters is', letters, 'and result is', result)"
   ]
  },
  {
   "cell_type": "code",
   "execution_count": 97,
   "id": "2450b54d",
   "metadata": {},
   "outputs": [
    {
     "name": "stdout",
     "output_type": "stream",
     "text": [
      "new is ['D', 'o', 'l', 'd'] and old is ['D', 'o', 'l', 'd']\n"
     ]
    }
   ],
   "source": [
    "# Program A\n",
    "old = list('gold')\n",
    "new = old      # simple assignment\n",
    "new[0] = 'D'\n",
    "print('new is', new, 'and old is', old)\n",
    "\n",
    "# new = old makes new a reference to the list old; new and old point towards the same object.\n"
   ]
  },
  {
   "cell_type": "code",
   "execution_count": 99,
   "id": "a4234fb7",
   "metadata": {},
   "outputs": [
    {
     "name": "stdout",
     "output_type": "stream",
     "text": [
      "new is ['D', 'o', 'l', 'd'] and old is ['g', 'o', 'l', 'd']\n"
     ]
    }
   ],
   "source": [
    "# Program B\n",
    "old = list('gold')\n",
    "new = old[:]   # assigning a slice\n",
    "new[0] = 'D'\n",
    "print('new is', new, 'and old is', old)\n",
    "\n",
    "# new = old[:] however creates a new list object new containing all elements from the list old; new and old are different objects."
   ]
  },
  {
   "cell_type": "markdown",
   "id": "ab1aac69",
   "metadata": {},
   "source": [
    "Character strings can be indexed and sliced like lists.\\\n",
    "**The characters in a string are ordered.** The string ‘AB’ is not the same as ‘BA’. Because of this ordering, we can treat the string as a list of characters.\\\n",
    "I wonder could I use it in some scenario where I use markov chains or trajectories."
   ]
  },
  {
   "cell_type": "code",
   "execution_count": 82,
   "id": "f6c9f80b",
   "metadata": {},
   "outputs": [
    {
     "name": "stdout",
     "output_type": "stream",
     "text": [
      "9\n",
      "First letter is:  m , last letter is:  r\n"
     ]
    }
   ],
   "source": [
    "word = \"molecular\"\n",
    "print(len(word))\n",
    "print('First letter is: ', word[0], ', last letter is: ', word[8])"
   ]
  },
  {
   "cell_type": "markdown",
   "id": "9313bc9a",
   "metadata": {},
   "source": [
    "# Tuple\n",
    "Works like a list but you **cannot** redefine items inside of it."
   ]
  },
  {
   "cell_type": "code",
   "execution_count": null,
   "id": "6020f129",
   "metadata": {},
   "outputs": [
    {
     "data": {
      "text/plain": [
       "1"
      ]
     },
     "execution_count": 9,
     "metadata": {},
     "output_type": "execute_result"
    }
   ],
   "source": [
    "#Tuple ( you cannot edit - tuple doesnt support item assigment)\n",
    "xtuple = (1,2,3,4,5,6,'meow')\n",
    "xtuple[0]"
   ]
  },
  {
   "cell_type": "code",
   "execution_count": 19,
   "id": "3f98082a",
   "metadata": {},
   "outputs": [
    {
     "ename": "TypeError",
     "evalue": "'tuple' object does not support item assignment",
     "output_type": "error",
     "traceback": [
      "\u001b[1;31m---------------------------------------------------------------------------\u001b[0m",
      "\u001b[1;31mTypeError\u001b[0m                                 Traceback (most recent call last)",
      "Cell \u001b[1;32mIn[19], line 1\u001b[0m\n\u001b[1;32m----> 1\u001b[0m xtuple[\u001b[38;5;241m0\u001b[39m]\u001b[38;5;241m=\u001b[39m\u001b[38;5;241m10\u001b[39m\n",
      "\u001b[1;31mTypeError\u001b[0m: 'tuple' object does not support item assignment"
     ]
    }
   ],
   "source": [
    "xtuple[0]=10"
   ]
  },
  {
   "cell_type": "markdown",
   "id": "e4012587",
   "metadata": {},
   "source": [
    "# Dictionary\n",
    "You define pair of key and an item. If you give it a key, it spits you out an item."
   ]
  },
  {
   "cell_type": "code",
   "execution_count": 103,
   "id": "d0592c20",
   "metadata": {},
   "outputs": [],
   "source": [
    "#Dictionary (if you give me key, i give you item)\n",
    "xdict = {'cat':'kitty', 'dog':'doggy',1:3}"
   ]
  },
  {
   "cell_type": "code",
   "execution_count": 104,
   "id": "b8c10492",
   "metadata": {},
   "outputs": [
    {
     "name": "stdout",
     "output_type": "stream",
     "text": [
      "kitty\n"
     ]
    }
   ],
   "source": [
    "print(xdict['cat'])"
   ]
  },
  {
   "cell_type": "code",
   "execution_count": 109,
   "id": "9edce0e0",
   "metadata": {},
   "outputs": [
    {
     "name": "stdout",
     "output_type": "stream",
     "text": [
      "dict_keys(['cat', 'dog', 1])\n",
      "dict_values(['kitty', 'doggy', 3])\n"
     ]
    }
   ],
   "source": [
    "print(xdict.keys())\n",
    "print(xdict.values())"
   ]
  }
 ],
 "metadata": {
  "kernelspec": {
   "display_name": "base",
   "language": "python",
   "name": "python3"
  },
  "language_info": {
   "codemirror_mode": {
    "name": "ipython",
    "version": 3
   },
   "file_extension": ".py",
   "mimetype": "text/x-python",
   "name": "python",
   "nbconvert_exporter": "python",
   "pygments_lexer": "ipython3",
   "version": "3.12.7"
  }
 },
 "nbformat": 4,
 "nbformat_minor": 5
}
